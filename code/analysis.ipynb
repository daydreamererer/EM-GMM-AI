{
 "cells": [
  {
   "cell_type": "code",
   "execution_count": 2,
   "metadata": {},
   "outputs": [
    {
     "name": "stdout",
     "output_type": "stream",
     "text": [
      "F 167.35294117647058 5.510684808517316 17\n",
      "M 178.33333333333334 5.568153105323974 78\n",
      "176.3684210526316 6.961982830143411\n"
     ]
    }
   ],
   "source": [
    "from matplotlib import pyplot as plt\n",
    "import numpy as np\n",
    "import pandas as pd\n",
    "import seaborn as sns\n",
    "import scipy.stats as stats\n",
    "\n",
    "data = pd.read_csv('data.csv')\n",
    "\n",
    "# 计算所有Gender属性为M的样本的Height属性的均值\n",
    "group_gender = data.groupby('Gender')\n",
    "for name, sub_df in group_gender:\n",
    "    print(name, sub_df['Height'].mean(), sub_df['Height'].std(), sub_df.shape[0])\n",
    "print(data['Height'].mean(), data['Height'].std())\n",
    "# add = pd.Series(np.array([i for i in range(95)]))\n",
    "# data['ID'] = add\n",
    "# sns.scatterplot(data=data, x='ID', y='Height', hue='Gender', style='Gender', palette='Set2')\n",
    "# plt.savefig('scatterplot.png', dpi=300)\n",
    "\n",
    "# sns.histplot(data=data, x='Height', hue='Gender', kde=True, stat='density', palette='Set2', line_kws={'linewidth': 3})\n",
    "# # 在同样的ax上画一个均值为178，标准差为5.47的正态分布\n",
    "# x = np.linspace(160, 190, 100)\n",
    "# guass_m = stats.norm(loc=178,scale=5.48)\n",
    "# y_m = guass_m.pdf(x)\n",
    "# plt.plot(x, y_m, color='g', linewidth=3)\n",
    "# gauss_f = stats.norm(loc=164, scale=2.46)\n",
    "# y_f = gauss_f.pdf(x)\n",
    "# plt.plot(x, y_f, color='#FA8072', linewidth=2)\n",
    "# plt.savefig('histplot.png', dpi=300)\n"
   ]
  },
  {
   "cell_type": "code",
   "execution_count": 2,
   "metadata": {},
   "outputs": [
    {
     "name": "stdout",
     "output_type": "stream",
     "text": [
      "182.33\n",
      "175.73\n",
      "163.79\n",
      "175.50\n",
      "176.03\n",
      "163.29\n",
      "173.78\n",
      "179.93\n",
      "183.41\n",
      "175.20\n"
     ]
    }
   ],
   "source": [
    "import numpy as np\n",
    "import scipy.stats as stats\n",
    "\n",
    "mu, sigma = 0, 0\n",
    "for i in range(10):\n",
    "    p = np.random.uniform()\n",
    "    if p < 0.8835753884001791:\n",
    "        mu = 178.02185350451637\n",
    "        sigma = 5.477270086252087\n",
    "    else:\n",
    "        mu = 163.82011016894035\n",
    "        sigma = 2.458202370511731\n",
    "    pred_height = stats.norm(loc=mu, scale=sigma).rvs()\n",
    "    print(\"{:.2f}\".format(pred_height))"
   ]
  },
  {
   "cell_type": "code",
   "execution_count": 5,
   "metadata": {},
   "outputs": [
    {
     "data": {
      "text/plain": [
       "array([-1.50287429,  1.90392507])"
      ]
     },
     "execution_count": 5,
     "metadata": {},
     "output_type": "execute_result"
    }
   ],
   "source": [
    "import numpy as np\n",
    "import scipy.stats as stats\n",
    "\n",
    "y = stats.norm(loc=1., scale=2.).rvs(2)\n",
    "y"
   ]
  }
 ],
 "metadata": {
  "kernelspec": {
   "display_name": "Pytorch",
   "language": "python",
   "name": "python3"
  },
  "language_info": {
   "codemirror_mode": {
    "name": "ipython",
    "version": 3
   },
   "file_extension": ".py",
   "mimetype": "text/x-python",
   "name": "python",
   "nbconvert_exporter": "python",
   "pygments_lexer": "ipython3",
   "version": "3.8.12"
  }
 },
 "nbformat": 4,
 "nbformat_minor": 2
}
